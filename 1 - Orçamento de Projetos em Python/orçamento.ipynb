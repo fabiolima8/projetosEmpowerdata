{
 "cells": [
  {
   "cell_type": "code",
   "execution_count": 1,
   "id": "9b1d9d88",
   "metadata": {},
   "outputs": [
    {
     "name": "stdout",
     "output_type": "stream",
     "text": [
      "Digite a descrição do projeto: Desenvolvimento Python\n",
      "Digite a quantidade de horas estimadas: 200\n",
      "Digite o valor da hora trabalhada: 200\n",
      "Digite o prazo: 3 meses\n"
     ]
    },
    {
     "data": {
      "text/plain": [
       "'3 meses'"
      ]
     },
     "execution_count": 1,
     "metadata": {},
     "output_type": "execute_result"
    }
   ],
   "source": [
    "input('Digite a descrição do projeto: ')\n",
    "input('Digite a quantidade de horas estimadas: ')\n",
    "input('Digite o valor da hora trabalhada: ')\n",
    "input('Digite o prazo: ')"
   ]
  },
  {
   "cell_type": "code",
   "execution_count": 7,
   "id": "b8757183",
   "metadata": {},
   "outputs": [
    {
     "name": "stdout",
     "output_type": "stream",
     "text": [
      "Digite a descrição do projeto: Desenvolvimento Python\n",
      "Digite a quantidade de horas estimadas: 200\n",
      "Digite o valor da hora trabalhada: 150\n",
      "Digite o prazo: 3 meses\n"
     ]
    }
   ],
   "source": [
    "projeto = input('Digite a descrição do projeto: ')\n",
    "horas_estimadas = input('Digite a quantidade de horas estimadas: ')\n",
    "valor_hora = input('Digite o valor da hora trabalhada: ')\n",
    "prazo = input('Digite o prazo: ')\n"
   ]
  },
  {
   "cell_type": "code",
   "execution_count": 3,
   "id": "44962a87",
   "metadata": {},
   "outputs": [],
   "source": [
    "valor_total = int(horas_estimadas) * int(valor_hora)"
   ]
  },
  {
   "cell_type": "code",
   "execution_count": 4,
   "id": "db188186",
   "metadata": {},
   "outputs": [],
   "source": [
    "from fpdf import FPDF"
   ]
  },
  {
   "cell_type": "code",
   "execution_count": 5,
   "id": "944ae2e5",
   "metadata": {},
   "outputs": [],
   "source": [
    "pdf = FPDF()"
   ]
  },
  {
   "cell_type": "code",
   "execution_count": 6,
   "id": "03ca1116",
   "metadata": {},
   "outputs": [
    {
     "name": "stdout",
     "output_type": "stream",
     "text": [
      "Orçamento gerado com sucesso!\n"
     ]
    }
   ],
   "source": [
    "pdf.add_page()\n",
    "pdf.set_font('Arial')\n",
    "pdf.image('template.png', x=0, y=0)\n",
    "pdf.text(115, 145, projeto)\n",
    "pdf.text(115, 160, horas_estimadas)\n",
    "pdf.text(115, 190, prazo)\n",
    "pdf.text(115, 205, str(valor_total))\n",
    "pdf.output('Orçamento Python.pdf')\n",
    "print('Orçamento gerado com sucesso!')"
   ]
  },
  {
   "cell_type": "code",
   "execution_count": null,
   "id": "1b212212",
   "metadata": {},
   "outputs": [],
   "source": []
  }
 ],
 "metadata": {
  "kernelspec": {
   "display_name": "Python 3 (ipykernel)",
   "language": "python",
   "name": "python3"
  },
  "language_info": {
   "codemirror_mode": {
    "name": "ipython",
    "version": 3
   },
   "file_extension": ".py",
   "mimetype": "text/x-python",
   "name": "python",
   "nbconvert_exporter": "python",
   "pygments_lexer": "ipython3",
   "version": "3.9.13"
  }
 },
 "nbformat": 4,
 "nbformat_minor": 5
}
